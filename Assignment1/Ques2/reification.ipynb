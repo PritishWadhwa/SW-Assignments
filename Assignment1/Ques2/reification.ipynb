{
 "cells": [
  {
   "cell_type": "code",
   "execution_count": 51,
   "metadata": {},
   "outputs": [],
   "source": [
    "from rdflib import RDF, Graph, Literal, Namespace, BNode, Bag, RDFS, URIRef, FOAF, XSD"
   ]
  },
  {
   "cell_type": "code",
   "execution_count": 60,
   "metadata": {},
   "outputs": [],
   "source": [
    "g1 = Graph('Memory', identifier=URIRef(\n",
    "    'http://iiitd.ac.in/course/sweb/student/2019440/Charlie'))\n",
    "EX = Namespace(\"http://iiitd.ac.in/course/sweb/student/2019440/\")\n",
    "g1.bind(\"EX\", EX)"
   ]
  },
  {
   "cell_type": "code",
   "execution_count": 61,
   "metadata": {},
   "outputs": [],
   "source": [
    "Question = URIRef(EX.term(\"Question\"))\n",
    "ElonMusk = URIRef(EX.term(\"ElonMusk\"))\n",
    "CharlieMunger = URIRef(EX.term(\"CharlieMunger\"))\n",
    "Tesla = URIRef(EX.term(\"Tesla\"))\n",
    "SpaceX = URIRef(EX.term(\"SpaceX\"))\n",
    "CompanyBag = BNode()\n",
    "CharlieQuestionBNode = BNode()\n",
    "DailyJournalMeetingBNode = BNode()\n",
    "CharlieResponse = BNode()\n",
    "CharlieThought1 = BNode()\n",
    "CharlieThought2 = BNode()\n",
    "CharlieThoughtBag = BNode()"
   ]
  },
  {
   "cell_type": "code",
   "execution_count": 54,
   "metadata": {},
   "outputs": [
    {
     "data": {
      "text/plain": [
       "<Graph identifier=http://iiitd.ac.in/course/sweb/student/2019440/Charlie (<class 'rdflib.graph.Graph'>)>"
      ]
     },
     "execution_count": 54,
     "metadata": {},
     "output_type": "execute_result"
    }
   ],
   "source": [
    "g1.add((ElonMusk, RDF.type, Literal('Billionaire', lang='en')))\n",
    "g1.add((ElonMusk, EX.brilliantMindBehind, CompanyBag))\n",
    "g1.add((CompanyBag, RDF.type, RDF.Bag))\n",
    "g1.add((CompanyBag, RDFS.member, SpaceX))\n",
    "g1.add((CompanyBag, RDFS.member, Tesla))\n",
    "g1.add((Question, EX.asked, CharlieQuestionBNode))\n",
    "g1.add((CharlieQuestionBNode, EX.askedTo, CharlieMunger))\n",
    "g1.add((CharlieQuestionBNode, EX.askedAbout, ElonMusk))\n",
    "g1.add((CharlieQuestionBNode, EX.askedAt, DailyJournalMeetingBNode))\n",
    "g1.add((CharlieQuestionBNode, EX.name, Literal(\"Daily Journal Meeting\", lang='en')))\n",
    "g1.add((DailyJournalMeetingBNode, EX.year, Literal(2014, datatype=XSD.gYear)))\n",
    "g1.add((CharlieMunger, FOAF.firstName, Literal('Charlie', lang='en')))\n",
    "g1.add((CharlieMunger, FOAF.lastName, Literal('Munger', lang='en')))\n",
    "g1.add((ElonMusk, FOAF.firstName, Literal('Elon', lang='en')))\n",
    "g1.add((ElonMusk, FOAF.lastName, Literal('Musk', lang='en')))\n",
    "g1.add((CharlieMunger, EX.response, CharlieResponse))\n",
    "g1.add((CharlieResponse, EX.thinks, CharlieThoughtBag))\n",
    "g1.add((CharlieThoughtBag, RDF.type, RDF.Bag))\n",
    "g1.add((CharlieThoughtBag, RDFS.member, CharlieThought1))\n",
    "g1.add((CharlieThoughtBag, RDFS.member, CharlieThought2))\n",
    "g1.add((CharlieThought1, RDF.subject, ElonMusk))\n",
    "g1.add((CharlieThought1, RDF.predicate, RDF.type))\n",
    "g1.add((CharlieThought1, RDF.object, Literal('Genius', lang='en')))\n",
    "g1.add((CharlieThought2, RDF.subject, ElonMusk))\n",
    "g1.add((CharlieThought2, RDF.predicate, EX.oneOfThe))\n",
    "g1.add((CharlieThought2, RDF.object, Literal('Boldest', lang='en')))\n",
    "g1.add((CharlieThought2, RDF.object, Literal('Smartest', lang='en')))"
   ]
  },
  {
   "cell_type": "code",
   "execution_count": 55,
   "metadata": {},
   "outputs": [],
   "source": [
    "print(g1.serialize(format='trig'), file=open('reificationGraph.trig', 'w'))"
   ]
  },
  {
   "cell_type": "code",
   "execution_count": 56,
   "metadata": {},
   "outputs": [],
   "source": [
    "g2 = Graph('Memory', identifier=URIRef(\n",
    "    'http://iiitd.ac.in/course/sweb/student/2019440/Musk'))\n",
    "g2.bind(\"EX\", EX)"
   ]
  },
  {
   "cell_type": "code",
   "execution_count": 62,
   "metadata": {},
   "outputs": [],
   "source": [
    "IsaacAsimov = URIRef(EX.term(\"IsaacAsimov\"))\n",
    "Isaacson = URIRef(EX.term(\"Isaacson\"))\n",
    "MuskInterviewBNode = BNode()\n",
    "MuskStatement1 = BNode()\n",
    "MuskStatement2 = BNode()\n",
    "MuskStatement3 = BNode()"
   ]
  },
  {
   "cell_type": "code",
   "execution_count": 63,
   "metadata": {},
   "outputs": [
    {
     "data": {
      "text/plain": [
       "<Graph identifier=http://iiitd.ac.in/course/sweb/student/2019440/Musk (<class 'rdflib.graph.Graph'>)>"
      ]
     },
     "execution_count": 63,
     "metadata": {},
     "output_type": "execute_result"
    }
   ],
   "source": [
    "g2.add((ElonMusk, EX.interview, MuskInterviewBNode))\n",
    "g2.add((MuskInterviewBNode, EX.interviewWith, Literal('Design and Architecture', lang='en')))\n",
    "g2.add((MuskInterviewBNode, EX.said, MuskStatement1))\n",
    "g2.add((MuskStatement1, RDF.subject, IsaacAsimov))\n",
    "g2.add((IsaacAsimov, FOAF.firstName, Literal('Isaac', lang='en')))\n",
    "g2.add((IsaacAsimov, FOAF.lastName, Literal('Asimov', lang='en')))\n",
    "g2.add((MuskStatement1, RDF.predicate, EX.author))\n",
    "g2.add((MuskStatement1, RDF.object, Literal('Great', lang='en')))\n",
    "g2.add((MuskStatement1, RDF.object, Literal('Sci-fi book', lang='en')))\n",
    "g2.add((MuskInterviewBNode, EX.likes, MuskStatement2))\n",
    "g2.add((MuskStatement2, RDF.subject, Literal('Foundation Series', lang='en')))\n",
    "g2.add((MuskStatement2, RDF.predicate, EX.among))\n",
    "g2.add((MuskStatement2, RDF.object, Literal('All-time best', lang='en')))\n",
    "g2.add((MuskInterviewBNode, EX.recommends, MuskStatement3))\n",
    "g2.add((MuskStatement3, RDF.subject, Literal('Einstein: His Life and Universe', lang='en')))\n",
    "g2.add((MuskStatement3, RDF.predicate, EX.writtenBy))\n",
    "g2.add((MuskStatement3, RDF.object, Isaacson))\n",
    "g2.add((Isaacson, FOAF.lastName, Literal('Isaacson', lang='en')))"
   ]
  },
  {
   "cell_type": "code",
   "execution_count": 64,
   "metadata": {},
   "outputs": [],
   "source": [
    "print(g2.serialize(format='trig'), file=open('reificationGraph.trig', 'a'))"
   ]
  }
 ],
 "metadata": {
  "interpreter": {
   "hash": "aee8b7b246df8f9039afb4144a1f6fd8d2ca17a180786b69acc140d282b71a49"
  },
  "kernelspec": {
   "display_name": "Python 3.9.1 64-bit",
   "language": "python",
   "name": "python3"
  },
  "language_info": {
   "codemirror_mode": {
    "name": "ipython",
    "version": 3
   },
   "file_extension": ".py",
   "mimetype": "text/x-python",
   "name": "python",
   "nbconvert_exporter": "python",
   "pygments_lexer": "ipython3",
   "version": "3.9.1"
  },
  "orig_nbformat": 4
 },
 "nbformat": 4,
 "nbformat_minor": 2
}
