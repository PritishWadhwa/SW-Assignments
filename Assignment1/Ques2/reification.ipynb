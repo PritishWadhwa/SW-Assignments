{
 "cells": [
  {
   "cell_type": "code",
   "execution_count": 51,
   "metadata": {},
   "outputs": [],
   "source": [
    "from rdflib import RDF, Graph, Literal, Namespace, BNode, Bag, RDFS, URIRef, FOAF, XSD"
   ]
  },
  {
   "cell_type": "code",
   "execution_count": 60,
   "metadata": {},
   "outputs": [],
   "source": [
    "g1 = Graph('Memory', identifier=URIRef(\n",
    "    'http://iiitd.ac.in/course/sweb/student/2019440/Charlie'))\n",
    "EX = Namespace(\"http://iiitd.ac.in/course/sweb/student/2019440/\")\n",
    "g1.bind(\"EX\", EX)"
   ]
  },
  {
   "cell_type": "code",
   "execution_count": 61,
   "metadata": {},
   "outputs": [],
   "source": [
    "Question = URIRef(EX.term(\"Question\"))\n",
    "ElonMusk = URIRef(EX.term(\"ElonMusk\"))\n",
    "CharlieMunger = URIRef(EX.term(\"CharlieMunger\"))\n",
    "Tesla = URIRef(EX.term(\"Tesla\"))\n",
    "SpaceX = URIRef(EX.term(\"SpaceX\"))\n",
    "CompanyBag = BNode()\n",
    "CharlieQuestionBNode = BNode()\n",
    "DailyJournalMeetingBNode = BNode()\n",
    "CharlieResponse = BNode()\n",
    "CharlieThought1 = BNode()\n",
    "CharlieThought2 = BNode()\n",
    "CharlieThoughtBag = BNode()"
   ]
  },
  {
   "cell_type": "code",
   "execution_count": 54,
   "metadata": {},
   "outputs": [
    {
     "data": {
      "text/plain": [
       "<Graph identifier=http://iiitd.ac.in/course/sweb/student/2019440/Charlie (<class 'rdflib.graph.Graph'>)>"
      ]
     },
     "execution_count": 54,
     "metadata": {},
     "output_type": "execute_result"
    }
   ],
   "source": [
    "g1.add((ElonMusk, RDF.type, Literal('Billionaire', lang='en')))\n",
    "g1.add((ElonMusk, EX.brilliantMindBehind, CompanyBag))\n",
    "g1.add((CompanyBag, RDF.type, RDF.Bag))\n",
    "g1.add((CompanyBag, RDFS.member, SpaceX))\n",
    "g1.add((CompanyBag, RDFS.member, Tesla))\n",
    "g1.add((Question, EX.asked, CharlieQuestionBNode))\n",
    "g1.add((CharlieQuestionBNode, EX.askedTo, CharlieMunger))\n",
    "g1.add((CharlieQuestionBNode, EX.askedAbout, ElonMusk))\n",
    "g1.add((CharlieQuestionBNode, EX.askedAt, DailyJournalMeetingBNode))\n",
    "g1.add((CharlieQuestionBNode, EX.name, Literal(\"Daily Journal Meeting\", lang='en')))\n",
    "g1.add((DailyJournalMeetingBNode, EX.year, Literal(2014, datatype=XSD.gYear)))\n",
    "g1.add((CharlieMunger, FOAF.firstName, Literal('Charlie', lang='en')))\n",
    "g1.add((CharlieMunger, FOAF.lastName, Literal('Munger', lang='en')))\n",
    "g1.add((ElonMusk, FOAF.firstName, Literal('Elon', lang='en')))\n",
    "g1.add((ElonMusk, FOAF.lastName, Literal('Musk', lang='en')))\n",
    "g1.add((CharlieMunger, EX.response, CharlieResponse))\n",
    "g1.add((CharlieResponse, EX.thinks, CharlieThoughtBag))\n",
    "g1.add((CharlieThoughtBag, RDF.type, RDF.Bag))\n",
    "g1.add((CharlieThoughtBag, RDFS.member, CharlieThought1))\n",
    "g1.add((CharlieThoughtBag, RDFS.member, CharlieThought2))\n",
    "g1.add((CharlieThought1, RDF.subject, ElonMusk))\n",
    "g1.add((CharlieThought1, RDF.predicate, RDF.type))\n",
    "g1.add((CharlieThought1, RDF.object, Literal('Genius', lang='en')))\n",
    "g1.add((CharlieThought2, RDF.subject, ElonMusk))\n",
    "g1.add((CharlieThought2, RDF.predicate, EX.oneOfThe))\n",
    "g1.add((CharlieThought2, RDF.object, Literal('Boldest', lang='en')))\n",
    "g1.add((CharlieThought2, RDF.object, Literal('Smartest', lang='en')))"
   ]
  },
  {
   "cell_type": "code",
   "execution_count": 55,
   "metadata": {},
   "outputs": [],
   "source": [
    "print(g1.serialize(format='trig'), file=open('reificationGraph.trig', 'w'))"
   ]
  },
  {
   "cell_type": "code",
   "execution_count": 56,
   "metadata": {},
   "outputs": [],
   "source": [
    "g2 = Graph('Memory', identifier=URIRef(\n",
    "    'http://iiitd.ac.in/course/sweb/student/2019440/Musk'))\n",
    "g2.bind(\"EX\", EX)"
   ]
  },
  {
   "cell_type": "code",
   "execution_count": 62,
   "metadata": {},
   "outputs": [],
   "source": [
    "IsaacAsimov = URIRef(EX.term(\"IsaacAsimov\"))\n",
    "Isaacson = URIRef(EX.term(\"Isaacson\"))\n",
    "MuskInterviewBNode = BNode()\n",
    "MuskStatement1 = BNode()\n",
    "MuskStatement2 = BNode()\n",
    "MuskStatement3 = BNode()"
   ]
  },
  {
   "cell_type": "code",
   "execution_count": 63,
   "metadata": {},
   "outputs": [
    {
     "data": {
      "text/plain": [
       "<Graph identifier=http://iiitd.ac.in/course/sweb/student/2019440/Musk (<class 'rdflib.graph.Graph'>)>"
      ]
     },
     "execution_count": 63,
     "metadata": {},
     "output_type": "execute_result"
    }
   ],
   "source": [
    "g2.add((ElonMusk, EX.interview, MuskInterviewBNode))\n",
    "g2.add((MuskInterviewBNode, EX.interviewWith, Literal('Design and Architecture', lang='en')))\n",
    "g2.add((MuskInterviewBNode, EX.said, MuskStatement1))\n",
    "g2.add((MuskStatement1, RDF.subject, IsaacAsimov))\n",
    "g2.add((IsaacAsimov, FOAF.firstName, Literal('Isaac', lang='en')))\n",
    "g2.add((IsaacAsimov, FOAF.lastName, Literal('Asimov', lang='en')))\n",
    "g2.add((MuskStatement1, RDF.predicate, EX.author))\n",
    "g2.add((MuskStatement1, RDF.object, Literal('Great', lang='en')))\n",
    "g2.add((MuskStatement1, RDF.object, Literal('Sci-fi book', lang='en')))\n",
    "g2.add((MuskInterviewBNode, EX.likes, MuskStatement2))\n",
    "g2.add((MuskStatement2, RDF.subject, Literal('Foundation Series', lang='en')))\n",
    "g2.add((MuskStatement2, RDF.predicate, EX.among))\n",
    "g2.add((MuskStatement2, RDF.object, Literal('All-time best', lang='en')))\n",
    "g2.add((MuskInterviewBNode, EX.recommends, MuskStatement3))\n",
    "g2.add((MuskStatement3, RDF.subject, Literal('Einstein: His Life and Universe', lang='en')))\n",
    "g2.add((MuskStatement3, RDF.predicate, EX.writtenBy))\n",
    "g2.add((MuskStatement3, RDF.object, Isaacson))\n",
    "g2.add((Isaacson, FOAF.lastName, Literal('Isaacson', lang='en')))"
   ]
  },
  {
   "cell_type": "code",
   "execution_count": 64,
   "metadata": {},
   "outputs": [],
   "source": [
    "print(g2.serialize(format='trig'), file=open('reificationGraph.trig', 'a'))"
   ]
  },
  {
   "cell_type": "code",
   "execution_count": 2,
   "metadata": {},
   "outputs": [
    {
     "name": "stdout",
     "output_type": "stream",
     "text": [
      "@prefix ns1: <http://iiitd.ac.in/course/sweb/student/2019408/q2/> .\n",
      "@prefix ns2: <http://iiitd.ac.in/course/sweb/student/2019408/> .\n",
      "@prefix rdf: <http://www.w3.org/1999/02/22-rdf-syntax-ns#> .\n",
      "@prefix xsd: <http://www.w3.org/2001/XMLSchema#> .\n",
      "\n",
      "ns1:InterviewCharlie {\n",
      "    ns2:question ns2:askedTo [ ns2:about ns2:ElonMusk ;\n",
      "                ns2:at ns2:DailyJournalMeeting ;\n",
      "                ns2:respondant ns2:CharlieMunger ;\n",
      "                ns2:year \"2014-01-01\"^^xsd:date ] .\n",
      "\n",
      "    ns2:CharlieMunger ns2:replied ns2:opinion .\n",
      "\n",
      "    ns2:opinion a rdf:Statement ;\n",
      "        rdf:object ns2:billionaire,\n",
      "            ns2:genius,\n",
      "            ns2:thought ;\n",
      "        rdf:predicate rdf:type ;\n",
      "        rdf:subject ns2:ElonMusk .\n",
      "\n",
      "    ns2:thought a rdf:Statement ;\n",
      "        rdf:object ns2:boldest,\n",
      "            ns2:smartest ;\n",
      "        rdf:predicate ns2:among ;\n",
      "        rdf:subject ns2:ElonMusk .\n",
      "\n",
      "    ns2:ElonMusk a \"Billionaire\"@en ;\n",
      "        ns2:BrilliantMindBehind ns2:SpaceX,\n",
      "            ns2:Tesla .\n",
      "}\n",
      "\n",
      "\n",
      "@prefix ns1: <http://iiitd.ac.in/course/sweb/student/2019408/q2/> .\n",
      "@prefix ns2: <http://iiitd.ac.in/course/sweb/student/2019408/> .\n",
      "@prefix rdf: <http://www.w3.org/1999/02/22-rdf-syntax-ns#> .\n",
      "\n",
      "ns1:InterviewElon {\n",
      "    ns2:ElonMusk ns2:interviewed [ ns2:host ns2:DesignAndArchitecture ;\n",
      "                ns2:recommends ns2:Einstein_HisLifeandUniverse ;\n",
      "                ns2:supposes ns2:Opinion,\n",
      "                    ns2:belief ] .\n",
      "\n",
      "    ns2:Einstein_HisLifeandUniverse ns2:author ns2:Isaacson .\n",
      "\n",
      "    ns2:Opinion a rdf:Statement ;\n",
      "        rdf:object ns2:great,\n",
      "            ns2:sci_fi_Books ;\n",
      "        rdf:predicate ns2:author ;\n",
      "        rdf:subject ns2:IsaacAsimov .\n",
      "\n",
      "    ns2:belief a rdf:Statement ;\n",
      "        rdf:object ns2:allTimeBest ;\n",
      "        rdf:predicate ns2:oneOfThe ;\n",
      "        rdf:subject ns2:Foundation_series .\n",
      "}\n",
      "\n",
      "\n"
     ]
    }
   ],
   "source": [
    "from rdflib import RDF, Graph, Literal, Namespace, BNode, Bag, RDFS, URIRef\n",
    "from rdflib.collection import Collection\n",
    "# rdflib knows about quite a few popular namespaces, like W3C tologies, schema.org etc.\n",
    "from rdflib.namespace import FOAF, XSD\n",
    "\n",
    "g = Graph('Memory', URIRef(\n",
    "    'http://iiitd.ac.in/course/sweb/student/2019408/q2/InterviewCharlie'))\n",
    "ex = Namespace('http://iiitd.ac.in/course/sweb/student/2019408/')\n",
    "\n",
    "bn = BNode()\n",
    "g.add((ex.question, ex.askedTo, bn))\n",
    "g.add((bn, ex.respondant, ex.CharlieMunger))\n",
    "g.add((bn, ex.about, ex.ElonMusk))\n",
    "g.add((bn, ex.at, ex.DailyJournalMeeting))\n",
    "g.add((bn, ex.year, Literal(\"2014\", datatype=XSD.date)))\n",
    "\n",
    "g.add((ex.ElonMusk, RDF.type, Literal(\"Billionaire\", lang=\"en\")))\n",
    "g.add((ex.ElonMusk, ex.BrilliantMindBehind, ex.SpaceX))\n",
    "g.add((ex.ElonMusk, ex.BrilliantMindBehind, ex.Tesla))\n",
    "\n",
    "\n",
    "g.add((ex.CharlieMunger, ex.replied, ex.opinion))\n",
    "g.add((ex.opinion, RDF.subject, ex.ElonMusk))\n",
    "g.add((ex.opinion, RDF.predicate, RDF.type))\n",
    "g.add((ex.opinion, RDF.object, ex.billionaire))\n",
    "g.add((ex.opinion, RDF.object, ex.genius))\n",
    "g.add((ex.opinion, RDF.type, RDF.Statement))\n",
    "g.add((ex.opinion, RDF.object, ex.thought))\n",
    "\n",
    "\n",
    "# g.add((ex.ElonMusk,ex.isAmong_1,ex.smartest))\n",
    "# g.add((ex.ElonMusk,ex.isAmong_1,ex.boldest))\n",
    "# g.add((ex.isAmong_1,ex.singletonPropertyOf,ex.isAmong))\n",
    "# g.add((ex.isAmong_1,ex.hasSource,ex.CharlieMunger))\n",
    "\n",
    "\n",
    "g.add((ex.thought, RDF.subject, ex.ElonMusk))\n",
    "g.add((ex.thought, RDF.predicate, ex.among))\n",
    "g.add((ex.thought, RDF.object, ex.smartest))\n",
    "g.add((ex.thought, RDF.object, ex.boldest))\n",
    "g.add((ex.thought, RDF.type, RDF.Statement))\n",
    "\n",
    "print(g.serialize(format=\"trig\"))\n",
    "\n",
    "gg = Graph('Memory', URIRef(\n",
    "    'http://iiitd.ac.in/course/sweb/student/2019408/q2/InterviewElon'))\n",
    "\n",
    "bn1 = BNode()\n",
    "\n",
    "gg.add((ex.ElonMusk, ex.interviewed, bn1))\n",
    "gg.add((bn1, ex.host, ex.DesignAndArchitecture))\n",
    "gg.add((bn1, ex.recommends, ex.Einstein_HisLifeandUniverse))\n",
    "gg.add((ex.Einstein_HisLifeandUniverse, ex.author, ex.Isaacson))\n",
    "gg.add((bn1, ex.supposes, ex.Opinion))\n",
    "\n",
    "\n",
    "# gg.add((ex.IsaacAsimov,ex.writesGreat_1,ex.sci_fi_Books))\n",
    "# gg.add((ex.writesGreat_1,ex.singletonPropertyOf,ex.writesGreat))\n",
    "# gg.add((ex.writesGreat_1,ex.hasSource,ex.ElonMusk))\n",
    "\n",
    "gg.add((ex.Opinion, RDF.subject, ex.IsaacAsimov))\n",
    "gg.add((ex.Opinion, RDF.predicate, ex.author))\n",
    "gg.add((ex.Opinion, RDF.object, ex.sci_fi_Books))\n",
    "gg.add((ex.Opinion, RDF.object, ex.great))\n",
    "gg.add((ex.Opinion, RDF.type, RDF.Statement))\n",
    "\n",
    "gg.add((bn1, ex.supposes, ex.belief))\n",
    "gg.add((ex.belief, RDF.subject, ex.Foundation_series))\n",
    "gg.add((ex.belief, RDF.predicate, ex.oneOfThe))\n",
    "gg.add((ex.belief, RDF.object, ex.allTimeBest))\n",
    "gg.add((ex.belief, RDF.type, RDF.Statement))\n",
    "print(gg.serialize(format=\"trig\"))\n"
   ]
  },
  {
   "cell_type": "code",
   "execution_count": null,
   "metadata": {},
   "outputs": [],
   "source": []
  }
 ],
 "metadata": {
  "interpreter": {
   "hash": "aee8b7b246df8f9039afb4144a1f6fd8d2ca17a180786b69acc140d282b71a49"
  },
  "kernelspec": {
   "display_name": "Python 3.9.1 64-bit",
   "language": "python",
   "name": "python3"
  },
  "language_info": {
   "codemirror_mode": {
    "name": "ipython",
    "version": 3
   },
   "file_extension": ".py",
   "mimetype": "text/x-python",
   "name": "python",
   "nbconvert_exporter": "python",
   "pygments_lexer": "ipython3",
   "version": "3.9.1"
  },
  "orig_nbformat": 4
 },
 "nbformat": 4,
 "nbformat_minor": 2
}
