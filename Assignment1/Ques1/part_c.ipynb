{
 "cells": [
  {
   "cell_type": "code",
   "execution_count": 7,
   "metadata": {},
   "outputs": [],
   "source": [
    "from rdflib import Graph, URIRef, Literal, BNode, Namespace, XSD, collection, RDF, Bag, RDFS, FOAF"
   ]
  },
  {
   "cell_type": "code",
   "execution_count": 48,
   "metadata": {},
   "outputs": [],
   "source": [
    "EX = Namespace(\"http://iiitd.ac.in/course/sweb/student/2019440/\")"
   ]
  },
  {
   "cell_type": "code",
   "execution_count": 49,
   "metadata": {},
   "outputs": [],
   "source": [
    "g = Graph()\n",
    "g.bind(\"EX\", EX)"
   ]
  },
  {
   "cell_type": "code",
   "execution_count": 50,
   "metadata": {},
   "outputs": [],
   "source": [
    "LandCruiser = URIRef(EX.term(\"Land_Cruiser\"))\n",
    "Vehicle = URIRef(EX.term(\"Vehicle\"))\n",
    "VehicleBrands = URIRef(EX.term(\"Vehicle_Brands\"))\n",
    "FourWheeler = URIRef(EX.term(\"4_Wheeler\"))\n",
    "ThreeWheeler = URIRef(EX.term(\"3_Wheeler\"))\n",
    "TwoWheeler = URIRef(EX.term(\"2_Wheeler\"))\n",
    "ElectricVehicle = URIRef(EX.term(\"Electric_Vehicle\"))\n",
    "Cars = URIRef(EX.term(\"Cars\"))\n",
    "Suv = URIRef(EX.term(\"SUV\"))\n",
    "Toyota = URIRef(EX.term(\"Toyota\"))\n",
    "Japan = URIRef(EX.term(\"Japan\"))\n",
    "NorthAmerica = URIRef(EX.term(\"North_America\"))\n",
    "Asia = URIRef(EX.term(\"Asia\"))\n",
    "TokyoCity = URIRef(EX.term(\"Tokyo_City\"))\n",
    "Aichi = URIRef(EX.term(\"Aichi\"))\n",
    "Volkswagon = URIRef(EX.term(\"Volkswagon\"))\n",
    "Ford = URIRef(EX.term(\"Ford\"))\n",
    "Hyundai = URIRef(EX.term(\"Hyundai\"))\n",
    "Company = URIRef(EX.term(\"Company\"))\n",
    "Information = URIRef(EX.term(\"Information\"))\n",
    "Place = URIRef(EX.term(\"Place\"))\n",
    "Goal = URIRef(EX.term(\"Goal\"))\n",
    "Business = URIRef(EX.term(\"Business\"))\n",
    "CarBodyStyle = URIRef(EX.term(\"Car_Body_Style\"))\n",
    "EVReason = BNode()\n",
    "LandCruiserSales = BNode()\n",
    "LandCruiserFirstGenProduction = BNode()\n",
    "ToyotaHeadquarters = BNode()\n",
    "ToyotaHistory = BNode()\n",
    "ToyotaFounder = BNode()\n",
    "ToyotaFocussedProduction = BNode()\n",
    "market1 = BNode()\n",
    "market2 = BNode()\n",
    "market3 = BNode()\n",
    "bodyStyleBag = BNode()\n",
    "competitorsBag = BNode()\n",
    "manufactureBag = BNode()"
   ]
  },
  {
   "cell_type": "code",
   "execution_count": 51,
   "metadata": {},
   "outputs": [
    {
     "data": {
      "text/plain": [
       "<Graph identifier=N3c36f920e3e1487598fdced16b3c080e (<class 'rdflib.graph.Graph'>)>"
      ]
     },
     "execution_count": 51,
     "metadata": {},
     "output_type": "execute_result"
    }
   ],
   "source": [
    "g.add((Vehicle, RDF.type, RDFS.Class))\n",
    "g.add((VehicleBrands, RDF.type, RDFS.Class))\n",
    "g.add((FourWheeler, RDFS.subClassOf, Vehicle))\n",
    "g.add((ThreeWheeler, RDFS.subClassOf, Vehicle))\n",
    "g.add((TwoWheeler, RDFS.subClassOf, Vehicle))\n",
    "g.add((ElectricVehicle, RDFS.subClassOf, FourWheeler))\n",
    "g.add((ElectricVehicle, RDFS.subClassOf, ThreeWheeler))\n",
    "g.add((ElectricVehicle, RDFS.subClassOf, TwoWheeler))\n",
    "g.add((Cars, RDFS.subClassOf, FourWheeler))\n",
    "g.add((Suv, RDFS.subClassOf, FourWheeler))\n",
    "g.add((LandCruiser, RDF.type, Suv))\n",
    "g.add((LandCruiser, EX.alternateSpelling, Literal(\"LandCruiser\", lang=\"en\")))\n",
    "g.add((LandCruiser, EX.alternateSpelling, Literal(\"Land Cruiser\", lang=\"en\")))\n",
    "g.add((LandCruiser, EX.alternateName, Literal(\n",
    "    \"Toyota Rando-Kurūzā\", lang=\"Hepburn\")))\n",
    "g.add((LandCruiser, EX.alternateName, Literal(\"Toyota Land Cruiser\", lang=\"en\")))\n",
    "g.add((LandCruiser, EX.parentCompany, Toyota))\n",
    "g.add((Toyota, EX.fullName, Literal(\"Toyota Motor Corporation\", datatype=XSD.string)))\n",
    "g.add((Toyota, EX.countryOfOrigin, Japan))\n",
    "g.add((Toyota, EX.business, Literal(\"Automobile Manufacturer\", lang=\"en\")))\n",
    "g.add((LandCruiser, EX.sales, LandCruiserSales))\n",
    "g.add((LandCruiserSales, EX.tillYear, Literal(2019, datatype=XSD.gYear)))\n",
    "g.add((LandCruiserSales, EX.unitsSold, Literal(10000000, datatype=XSD.integer)))\n",
    "g.add((LandCruiserSales, EX.whereSold, Literal(\"Worldwide\", datatype=XSD.string)))\n",
    "g.add((LandCruiser, EX.productionOf, LandCruiserFirstGenProduction))\n",
    "g.add((LandCruiserFirstGenProduction, EX.startYear,\n",
    "       Literal(1951, datatype=XSD.gYear)))\n",
    "g.add((LandCruiserFirstGenProduction, EX.modelName,\n",
    "       Literal(\"First Generation Land Cruiser\", lang=\"en\")))\n",
    "g.add((LandCruiser, EX.bodyStyleProduced, bodyStyleBag))\n",
    "g.add((bodyStyleBag, RDF.type, RDF.Bag))\n",
    "g.add((bodyStyleBag, RDF._1, Literal(\"Hardtop\", lang=\"en\")))\n",
    "g.add((bodyStyleBag, RDF._2, Literal(\"Station Wagon\", lang=\"en\")))\n",
    "g.add((bodyStyleBag, RDF._3, Literal(\"Cab Chassis\", lang=\"en\")))\n",
    "g.add((bodyStyleBag, RDF._4, Literal(\"Convertible\", lang=\"en\")))\n",
    "g.add((Toyota, EX.majorCompetitors, competitorsBag))\n",
    "g.add((competitorsBag, RDF.type, RDF.Bag))\n",
    "g.add((competitorsBag, RDF._1, Ford))\n",
    "g.add((competitorsBag, RDF._2, Hyundai))\n",
    "g.add((competitorsBag, RDF._3, Volkswagon))\n",
    "g.add((Toyota, EX.manufactures, manufactureBag))\n",
    "g.add((manufactureBag, RDF.type, RDF.Bag))\n",
    "g.add((manufactureBag, RDF._1, Suv))\n",
    "g.add((manufactureBag, RDF._2, Cars))\n",
    "g.add((manufactureBag, RDF._3, ElectricVehicle))\n",
    "g.add((Toyota, RDFS.subClassOf, VehicleBrands))\n",
    "g.add((Ford, RDFS.subClassOf, VehicleBrands))\n",
    "g.add((Hyundai, RDFS.subClassOf, VehicleBrands))\n",
    "g.add((Volkswagon, RDFS.subClassOf, VehicleBrands))\n",
    "g.add((Ford, EX.manufactures, Cars))\n",
    "g.add((Hyundai, EX.manufactures, Cars))\n",
    "g.add((Volkswagon, EX.manufactures, Cars))\n",
    "g.add((Toyota, EX.headquarters, ToyotaHeadquarters))\n",
    "g.add((ToyotaHeadquarters, EX.city, TokyoCity))\n",
    "g.add((ToyotaHeadquarters, EX.prefecture, Aichi))\n",
    "g.add((ToyotaHeadquarters, EX.country, Japan))\n",
    "g.add((Toyota, EX.historicalInformation, ToyotaHistory))\n",
    "g.add((ToyotaHistory, EX.foundedBy, ToyotaFounder))\n",
    "g.add((ToyotaFounder, EX.firstName, Literal(\"Kiichiro\", lang=\"jp\")))\n",
    "g.add((ToyotaFounder, EX.lastName, Literal(\"Toyoda\", lang=\"jp\")))\n",
    "g.add((ToyotaHistory, EX.incorporationDate,\n",
    "       Literal('1937-08-28', datatype=XSD.date)))\n",
    "g.add((Toyota, EX.longestRunningSeriesOfModels, LandCruiser))\n",
    "g.add((Toyota, EX.currentFocusOn, Literal('Sustainable Growth', lang=\"en\")))\n",
    "g.add((Toyota, EX.currentFocusOn, ToyotaFocussedProduction))\n",
    "g.add((ToyotaFocussedProduction, EX.productionOf, ElectricVehicle))\n",
    "g.add((ToyotaFocussedProduction, EX.reason, EVReason))\n",
    "g.add((EVReason, EX.impactOn, Literal(\"Environment\", lang=\"en\")))\n",
    "g.add((EVReason, EX.intensity, Literal(\"Very Low\", lang=\"en\")))\n",
    "g.add((Toyota, EX.market, market1))\n",
    "g.add((market1, RDF.first, NorthAmerica))\n",
    "g.add((market1, RDF.rest, market2))\n",
    "g.add((market2, RDF.first, Japan))\n",
    "g.add((market2, RDF.rest, market3))\n",
    "g.add((market3, RDF.first, Asia))\n",
    "g.add((market3, RDF.rest, RDF.nil))\n",
    "g.add((NorthAmerica, RDF.type, Place))\n",
    "g.add((Asia, RDF.type, Place))\n",
    "g.add((Japan, RDF.type, Place))\n",
    "g.add((NorthAmerica, RDF.type, Place))\n",
    "g.add((Aichi, RDF.type, Place))\n",
    "g.add((TokyoCity, RDF.type, Place))\n",
    "g.add((EX.firstName, RDFS.range, FOAF.firstName))\n",
    "g.add((EX.firstName, RDFS.domain, FOAF.Person))\n",
    "g.add((EX.lastName, RDFS.range, FOAF.lastName))\n",
    "g.add((EX.lastName, RDFS.domain, FOAF.Person))\n",
    "g.add((EX.foundedBy, RDFS.domain, Company))\n",
    "g.add((EX.foundedBy, RDFS.range, FOAF.Person))\n",
    "g.add((EX.incorporationDate, RDFS.domain, Company))\n",
    "g.add((EX.incorporationDate, RDFS.range, XSD.date))\n",
    "g.add((EX.historicalInformation, RDFS.domain, Company))\n",
    "g.add((EX.historicalInformation, RDFS.range, EX.Information))\n",
    "g.add((EX.market, RDFS.domain, Company))\n",
    "g.add((EX.market, RDFS.range, Place))\n",
    "g.add((EX.prefecture, RDFS.domain, Place))\n",
    "g.add((EX.prefecture, RDFS.range, Place))\n",
    "g.add((EX.city, RDFS.domain, Place))\n",
    "g.add((EX.city, RDFS.range, Place))\n",
    "g.add((EX.country, RDFS.domain, Place))\n",
    "g.add((EX.country, RDFS.range, Place))\n",
    "g.add((EX.headquarters, RDFS.domain, Company))\n",
    "g.add((EX.headquarters, RDFS.range, Place))\n",
    "g.add((EX.fullName, RDFS.domain, Company))\n",
    "g.add((EX.fullName, RDFS.range, FOAF.name))\n",
    "g.add((EX.countryOfOrigin, RDFS.domain, Company))\n",
    "g.add((EX.countryOfOrigin, RDFS.range, Place))\n",
    "g.add((EX.currentFocusOn, RDFS.domain, Company))\n",
    "g.add((EX.currentFocusOn, RDFS.range, Goal))\n",
    "g.add((EX.productionOf, RDFS.domain, Company))\n",
    "g.add((EX.productionOf, RDFS.range, Vehicle))\n",
    "g.add((EX.business, RDFS.domain, Company))\n",
    "g.add((EX.business, RDFS.range, Business))\n",
    "g.add((EX.manufactures, RDFS.domain, Company))\n",
    "g.add((EX.manufactures, RDFS.range, Vehicle))\n",
    "g.add((EX.majorCompetitors, RDFS.domain, Company))\n",
    "g.add((EX.majorCompetitors, RDFS.range, Company))\n",
    "g.add((EX.parentCompany, RDFS.domain, Company))\n",
    "g.add((EX.parentCompany, RDFS.range, Company))\n",
    "g.add((EX.longestRunningSeriesOfModels, RDFS.domain, Company))\n",
    "g.add((EX.longestRunningSeriesOfModels, RDFS.range, Vehicle))\n",
    "g.add((EX.bodyStyleProduced, RDFS.domain, Vehicle))\n",
    "g.add((EX.bodyStyleProduced, RDFS.range, CarBodyStyle))\n",
    "g.add((EX.sales, RDFS.domain, Vehicle))\n",
    "g.add((EX.sales, RDFS.range, Information))\n",
    "g.add((EX.unitsSold, RDFS.domain, Vehicle))\n",
    "g.add((EX.unitsSold, RDFS.range, XSD.nonNegativeInteger))\n",
    "g.add((EX.whereSold, RDFS.domain, Vehicle))\n",
    "g.add((EX.whereSold, RDFS.range, Place))\n",
    "g.add((EX.tillYear, RDFS.domain, Vehicle))\n",
    "g.add((EX.tillYear, RDFS.range, XSD.gYear))\n",
    "g.add((EX.startYear, RDFS.domain, Vehicle))\n",
    "g.add((EX.startYear, RDFS.range, XSD.gYear))\n",
    "g.add((EX.modelName, RDFS.domain, Vehicle))\n",
    "g.add((EX.modelName, RDFS.range, FOAF.name))\n",
    "g.add((EX.alternateName, RDFS.domain, Vehicle))\n",
    "g.add((EX.alternateName, RDFS.range, FOAF.name))\n",
    "g.add((EX.alternateSpelling, RDFS.domain, Vehicle))\n",
    "g.add((EX.alternateSpelling, RDFS.range, FOAF.name))"
   ]
  },
  {
   "cell_type": "code",
   "execution_count": 52,
   "metadata": {},
   "outputs": [
    {
     "data": {
      "text/plain": [
       "<Graph identifier=N3c36f920e3e1487598fdced16b3c080e (<class 'rdflib.graph.Graph'>)>"
      ]
     },
     "execution_count": 52,
     "metadata": {},
     "output_type": "execute_result"
    }
   ],
   "source": [
    "g.serialize(destination='output_c.txt', format='turtle')"
   ]
  },
  {
   "cell_type": "code",
   "execution_count": 53,
   "metadata": {},
   "outputs": [
    {
     "data": {
      "text/plain": [
       "133"
      ]
     },
     "execution_count": 53,
     "metadata": {},
     "output_type": "execute_result"
    }
   ],
   "source": [
    "len(g)"
   ]
  }
 ],
 "metadata": {
  "interpreter": {
   "hash": "aee8b7b246df8f9039afb4144a1f6fd8d2ca17a180786b69acc140d282b71a49"
  },
  "kernelspec": {
   "display_name": "Python 3.9.1 64-bit",
   "language": "python",
   "name": "python3"
  },
  "language_info": {
   "codemirror_mode": {
    "name": "ipython",
    "version": 3
   },
   "file_extension": ".py",
   "mimetype": "text/x-python",
   "name": "python",
   "nbconvert_exporter": "python",
   "pygments_lexer": "ipython3",
   "version": "3.9.1"
  },
  "orig_nbformat": 4
 },
 "nbformat": 4,
 "nbformat_minor": 2
}
