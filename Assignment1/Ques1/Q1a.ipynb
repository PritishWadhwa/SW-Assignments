{
 "cells": [
  {
   "cell_type": "code",
   "execution_count": 12,
   "metadata": {},
   "outputs": [],
   "source": [
    "from rdflib import Graph, URIRef, Literal, BNode, Namespace, XSD, collection, RDF, Bag, RDFS"
   ]
  },
  {
   "cell_type": "code",
   "execution_count": 13,
   "metadata": {},
   "outputs": [],
   "source": [
    "EX = Namespace(\"http://iiitd.ac.in/course/sweb/student/2019440/\")"
   ]
  },
  {
   "cell_type": "code",
   "execution_count": 55,
   "metadata": {},
   "outputs": [],
   "source": [
    "g = Graph()\n",
    "g.bind(\"EX\", EX)"
   ]
  },
  {
   "cell_type": "code",
   "execution_count": 56,
   "metadata": {},
   "outputs": [],
   "source": [
    "LandCruiser = URIRef(EX.term(\"Land_Cruiser\"))\n",
    "Vehicle = URIRef(EX.term(\"Vehicle\"))\n",
    "VehicleBrands = URIRef(EX.term(\"Vehicle_Brands\"))\n",
    "FourWheeler = URIRef(EX.term(\"4_Wheeler\"))\n",
    "ThreeWheeler = URIRef(EX.term(\"3_Wheeler\"))\n",
    "TwoWheeler = URIRef(EX.term(\"2_Wheeler\"))\n",
    "ElectricVehicle = URIRef(EX.term(\"Electric_Vehicle\"))\n",
    "Cars = URIRef(EX.term(\"Cars\"))\n",
    "Suv = URIRef(EX.term(\"SUV\"))\n",
    "Toyota = URIRef(EX.term(\"Toyota\"))\n",
    "Japan = URIRef(EX.term(\"Japan\"))\n",
    "NorthAmerica = URIRef(EX.term(\"North_America\"))\n",
    "Asia = URIRef(EX.term(\"Asia\"))\n",
    "TokyoCity = URIRef(EX.term(\"Tokyo_City\"))\n",
    "Aichi = URIRef(EX.term(\"Aichi\"))\n",
    "Volkswagon = URIRef(EX.term(\"Volkswagon\"))\n",
    "Ford = URIRef(EX.term(\"Ford\"))\n",
    "Hyundai = URIRef(EX.term(\"Hyundai\"))\n",
    "EVReason = BNode()\n",
    "LandCruiserSales = BNode()\n",
    "LandCruiserFirstGenProduction = BNode()\n",
    "ToyotaHeadquarters = BNode()\n",
    "ToyotaHistory = BNode()\n",
    "ToyotaFounder = BNode()\n",
    "ToyotaFocussedProduction = BNode()\n",
    "market1 = BNode()\n",
    "market2 = BNode()\n",
    "market3 = BNode()\n",
    "bodyStyleBag = BNode()\n",
    "competitorsBag = BNode()\n",
    "manufactureBag = BNode()"
   ]
  },
  {
   "cell_type": "code",
   "execution_count": 57,
   "metadata": {},
   "outputs": [
    {
     "data": {
      "text/plain": [
       "<Graph identifier=Na1a47bc23b024127baf211942505bf6e (<class 'rdflib.graph.Graph'>)>"
      ]
     },
     "execution_count": 57,
     "metadata": {},
     "output_type": "execute_result"
    }
   ],
   "source": [
    "g.add((Vehicle, RDF.type, RDFS.Class))\n",
    "g.add((VehicleBrands, RDF.type, RDFS.Class))\n",
    "g.add((FourWheeler, RDFS.subClassOf, Vehicle))\n",
    "g.add((ThreeWheeler, RDFS.subClassOf, Vehicle))\n",
    "g.add((TwoWheeler, RDFS.subClassOf, Vehicle))\n",
    "g.add((ElectricVehicle, RDFS.subClassOf, FourWheeler))\n",
    "g.add((ElectricVehicle, RDFS.subClassOf, ThreeWheeler))\n",
    "g.add((ElectricVehicle, RDFS.subClassOf, TwoWheeler))\n",
    "g.add((Cars, RDFS.subClassOf, FourWheeler))\n",
    "g.add((Suv, RDFS.subClassOf, FourWheeler))\n",
    "g.add((LandCruiser, RDF.type, Suv))\n",
    "g.add((LandCruiser, EX.alternateSpelling, Literal(\"LandCruiser\", lang=\"en\")))\n",
    "g.add((LandCruiser, EX.alternateSpelling, Literal(\"Land Cruiser\", lang=\"en\")))\n",
    "g.add((LandCruiser, EX.alternateName, Literal(\"Toyota Rando-Kurūzā\", lang=\"Hepburn\")))\n",
    "g.add((LandCruiser, EX.alternateName, Literal(\"Toyota Land Cruiser\", lang=\"en\")))\n",
    "g.add((LandCruiser, EX.parentCompany, Toyota))\n",
    "g.add((Toyota, EX.fullName, Literal(\"Toyota Motor Corporation\", datatype=XSD.string)))\n",
    "g.add((Toyota, EX.countryOfOrigin, Japan))\n",
    "g.add((Toyota, EX.domain, Literal(\"Automobile Manufacturer\", lang=\"en\")))\n",
    "g.add((LandCruiser, EX.sales, LandCruiserSales))\n",
    "g.add((LandCruiserSales, EX.tillYear, Literal(2019, datatype=XSD.gYear)))\n",
    "g.add((LandCruiserSales, EX.unitsSold, Literal(10000000, datatype=XSD.integer)))\n",
    "g.add((LandCruiserSales, EX.whereSold, Literal(\"Worldwide\", datatype=XSD.string)))\n",
    "g.add((LandCruiser, EX.productionOf, LandCruiserFirstGenProduction))\n",
    "g.add((LandCruiserFirstGenProduction, EX.startYear, Literal(1951, datatype=XSD.gYear)))\n",
    "g.add((LandCruiserFirstGenProduction, EX.modelName, Literal(\"First Generation Land Cruiser\", lang=\"en\")))\n",
    "g.add((LandCruiser, EX.bodyStyleProduced, bodyStyleBag))\n",
    "g.add((bodyStyleBag, RDF.type, RDF.Bag))\n",
    "g.add((bodyStyleBag, RDF._1, Literal(\"Hardtop\", lang=\"en\")))\n",
    "g.add((bodyStyleBag, RDF._2, Literal(\"Station Wagon\", lang=\"en\")))\n",
    "g.add((bodyStyleBag, RDF._3, Literal(\"Cab Chassis\", lang=\"en\")))\n",
    "g.add((bodyStyleBag, RDF._4, Literal(\"Convertible\", lang=\"en\")))\n",
    "g.add((Toyota, EX.majorCompetitors, competitorsBag))\n",
    "g.add((competitorsBag, RDF.type, RDF.Bag))\n",
    "g.add((competitorsBag, RDF._1, Ford))\n",
    "g.add((competitorsBag, RDF._2, Hyundai))\n",
    "g.add((competitorsBag, RDF._3, Volkswagon))\n",
    "g.add((Toyota, EX.manufactures, manufactureBag))\n",
    "g.add((manufactureBag, RDF.type, RDF.Bag))\n",
    "g.add((manufactureBag, RDF._1, Suv))\n",
    "g.add((manufactureBag, RDF._2, Cars))\n",
    "g.add((manufactureBag, RDF._3, ElectricVehicle))\n",
    "g.add((Toyota, RDFS.subClassOf, VehicleBrands))\n",
    "g.add((Ford, RDFS.subClassOf, VehicleBrands))\n",
    "g.add((Hyundai, RDFS.subClassOf, VehicleBrands))\n",
    "g.add((Volkswagon, RDFS.subClassOf, VehicleBrands))\n",
    "g.add((Ford, EX.manufactures, Cars))\n",
    "g.add((Hyundai, EX.manufactures, Cars))\n",
    "g.add((Volkswagon, EX.manufactures, Cars))\n",
    "g.add((Toyota, EX.headquarters, ToyotaHeadquarters))\n",
    "g.add((ToyotaHeadquarters, EX.city, TokyoCity))\n",
    "g.add((ToyotaHeadquarters, EX.prefecture, Aichi))\n",
    "g.add((ToyotaHeadquarters, EX.country, Japan))\n",
    "g.add((Toyota, EX.historicalInformation, ToyotaHistory))\n",
    "g.add((ToyotaHistory, EX.foundedBy, ToyotaFounder))\n",
    "g.add((ToyotaFounder, EX.firstName, Literal(\"Kiichiro\", lang=\"jp\")))\n",
    "g.add((ToyotaFounder, EX.lastName, Literal(\"Toyoda\", lang=\"jp\")))\n",
    "g.add((ToyotaHistory, EX.incorporationDate, Literal('1937-08-28', datatype=XSD.date)))\n",
    "g.add((Toyota, EX.longestRunningSeriesOfModels, LandCruiser))\n",
    "g.add((Toyota, EX.currentFocusOn, Literal('Sustainable Growth', lang=\"en\")))\n",
    "g.add((Toyota, EX.currentFocusOn, ToyotaFocussedProduction))\n",
    "g.add((ToyotaFocussedProduction, EX.productionOf, ElectricVehicle))\n",
    "g.add((ToyotaFocussedProduction, EX.reason, EVReason))\n",
    "g.add((EVReason, EX.impactOn, Literal(\"Environment\", lang=\"en\")))\n",
    "g.add((EVReason, EX.intensity, Literal(\"Very Low\", lang=\"en\")))\n",
    "g.add((Toyota, EX.market, market1))\n",
    "g.add((market1, RDF.first, NorthAmerica))\n",
    "g.add((market1, RDF.rest, market2))\n",
    "g.add((market2, RDF.first, Japan))\n",
    "g.add((market2, RDF.rest, market3))\n",
    "g.add((market3, RDF.first, Asia))\n",
    "g.add((market3, RDF.rest, RDF.nil))\n"
   ]
  },
  {
   "cell_type": "code",
   "execution_count": 58,
   "metadata": {},
   "outputs": [
    {
     "data": {
      "text/plain": [
       "<Graph identifier=Na1a47bc23b024127baf211942505bf6e (<class 'rdflib.graph.Graph'>)>"
      ]
     },
     "execution_count": 58,
     "metadata": {},
     "output_type": "execute_result"
    }
   ],
   "source": [
    "g.serialize(destination='output.txt', format='turtle')"
   ]
  },
  {
   "cell_type": "code",
   "execution_count": 222,
   "metadata": {},
   "outputs": [],
   "source": [
    "ToyotaMarketGraph = Graph()\n",
    "market1 = BNode()\n",
    "market2 = BNode()\n",
    "market3 = BNode()\n",
    "ToyotaMarketGraph.add((market1, RDF.first, Literal(\"North America\", lang=\"en\")))\n",
    "ToyotaMarketGraph.add((market1, RDF.rest, market2))\n",
    "ToyotaMarketGraph.add((market2, RDF.first, Literal(\"Japan\", lang=\"en\")))\n",
    "ToyotaMarketGraph.add((market2, RDF.rest, market3))\n",
    "ToyotaMarketGraph.add((market3, RDF.first, Literal(\"Asia\", lang=\"en\")))\n",
    "ToyotaMarketGraph.add((market3, RDF.rest, RDF.nil))"
   ]
  },
  {
   "cell_type": "code",
   "execution_count": 223,
   "metadata": {},
   "outputs": [],
   "source": [
    "ToyotaMarket = collection.Collection(ToyotaMarketGraph, market1)"
   ]
  },
  {
   "cell_type": "code",
   "execution_count": 224,
   "metadata": {},
   "outputs": [
    {
     "ename": "AssertionError",
     "evalue": "Object <rdflib.collection.Collection object at 0x7f88976dd370> must be an rdflib term",
     "output_type": "error",
     "traceback": [
      "\u001b[0;31m---------------------------------------------------------------------------\u001b[0m",
      "\u001b[0;31mAssertionError\u001b[0m                            Traceback (most recent call last)",
      "\u001b[0;32m/var/folders/fc/z3ktrz354nddfg1wt432tbm80000gn/T/ipykernel_33721/236904451.py\u001b[0m in \u001b[0;36m<module>\u001b[0;34m\u001b[0m\n\u001b[0;32m----> 1\u001b[0;31m \u001b[0mg\u001b[0m\u001b[0;34m.\u001b[0m\u001b[0madd\u001b[0m\u001b[0;34m(\u001b[0m\u001b[0;34m(\u001b[0m\u001b[0mToyota\u001b[0m\u001b[0;34m,\u001b[0m \u001b[0mEX\u001b[0m\u001b[0;34m.\u001b[0m\u001b[0mmarket\u001b[0m\u001b[0;34m,\u001b[0m \u001b[0mToyotaMarket\u001b[0m\u001b[0;34m)\u001b[0m\u001b[0;34m)\u001b[0m\u001b[0;34m\u001b[0m\u001b[0;34m\u001b[0m\u001b[0m\n\u001b[0m",
      "\u001b[0;32m/Library/Frameworks/Python.framework/Versions/3.9/lib/python3.9/site-packages/rdflib/graph.py\u001b[0m in \u001b[0;36madd\u001b[0;34m(self, triple)\u001b[0m\n\u001b[1;32m    386\u001b[0m         \u001b[0;32massert\u001b[0m \u001b[0misinstance\u001b[0m\u001b[0;34m(\u001b[0m\u001b[0ms\u001b[0m\u001b[0;34m,\u001b[0m \u001b[0mNode\u001b[0m\u001b[0;34m)\u001b[0m\u001b[0;34m,\u001b[0m \u001b[0;34m\"Subject %s must be an rdflib term\"\u001b[0m \u001b[0;34m%\u001b[0m \u001b[0;34m(\u001b[0m\u001b[0ms\u001b[0m\u001b[0;34m,\u001b[0m\u001b[0;34m)\u001b[0m\u001b[0;34m\u001b[0m\u001b[0;34m\u001b[0m\u001b[0m\n\u001b[1;32m    387\u001b[0m         \u001b[0;32massert\u001b[0m \u001b[0misinstance\u001b[0m\u001b[0;34m(\u001b[0m\u001b[0mp\u001b[0m\u001b[0;34m,\u001b[0m \u001b[0mNode\u001b[0m\u001b[0;34m)\u001b[0m\u001b[0;34m,\u001b[0m \u001b[0;34m\"Predicate %s must be an rdflib term\"\u001b[0m \u001b[0;34m%\u001b[0m \u001b[0;34m(\u001b[0m\u001b[0mp\u001b[0m\u001b[0;34m,\u001b[0m\u001b[0;34m)\u001b[0m\u001b[0;34m\u001b[0m\u001b[0;34m\u001b[0m\u001b[0m\n\u001b[0;32m--> 388\u001b[0;31m         \u001b[0;32massert\u001b[0m \u001b[0misinstance\u001b[0m\u001b[0;34m(\u001b[0m\u001b[0mo\u001b[0m\u001b[0;34m,\u001b[0m \u001b[0mNode\u001b[0m\u001b[0;34m)\u001b[0m\u001b[0;34m,\u001b[0m \u001b[0;34m\"Object %s must be an rdflib term\"\u001b[0m \u001b[0;34m%\u001b[0m \u001b[0;34m(\u001b[0m\u001b[0mo\u001b[0m\u001b[0;34m,\u001b[0m\u001b[0;34m)\u001b[0m\u001b[0;34m\u001b[0m\u001b[0;34m\u001b[0m\u001b[0m\n\u001b[0m\u001b[1;32m    389\u001b[0m         \u001b[0mself\u001b[0m\u001b[0;34m.\u001b[0m\u001b[0m__store\u001b[0m\u001b[0;34m.\u001b[0m\u001b[0madd\u001b[0m\u001b[0;34m(\u001b[0m\u001b[0;34m(\u001b[0m\u001b[0ms\u001b[0m\u001b[0;34m,\u001b[0m \u001b[0mp\u001b[0m\u001b[0;34m,\u001b[0m \u001b[0mo\u001b[0m\u001b[0;34m)\u001b[0m\u001b[0;34m,\u001b[0m \u001b[0mself\u001b[0m\u001b[0;34m,\u001b[0m \u001b[0mquoted\u001b[0m\u001b[0;34m=\u001b[0m\u001b[0;32mFalse\u001b[0m\u001b[0;34m)\u001b[0m\u001b[0;34m\u001b[0m\u001b[0;34m\u001b[0m\u001b[0m\n\u001b[1;32m    390\u001b[0m \u001b[0;34m\u001b[0m\u001b[0m\n",
      "\u001b[0;31mAssertionError\u001b[0m: Object <rdflib.collection.Collection object at 0x7f88976dd370> must be an rdflib term"
     ]
    }
   ],
   "source": [
    "g.add((Toyota, EX.market, ToyotaMarket))"
   ]
  },
  {
   "cell_type": "code",
   "execution_count": 216,
   "metadata": {},
   "outputs": [
    {
     "ename": "AttributeError",
     "evalue": "'Collection' object has no attribute 'serialize'",
     "output_type": "error",
     "traceback": [
      "\u001b[0;31m---------------------------------------------------------------------------\u001b[0m",
      "\u001b[0;31mAttributeError\u001b[0m                            Traceback (most recent call last)",
      "\u001b[0;32m/var/folders/fc/z3ktrz354nddfg1wt432tbm80000gn/T/ipykernel_33721/3789144566.py\u001b[0m in \u001b[0;36m<module>\u001b[0;34m\u001b[0m\n\u001b[1;32m      1\u001b[0m \u001b[0;31m# print(g.serialize(format='turtle').decode('utf-8'))\u001b[0m\u001b[0;34m\u001b[0m\u001b[0;34m\u001b[0m\u001b[0;34m\u001b[0m\u001b[0m\n\u001b[0;32m----> 2\u001b[0;31m \u001b[0mToyotaMarket\u001b[0m\u001b[0;34m.\u001b[0m\u001b[0mserialize\u001b[0m\u001b[0;34m(\u001b[0m\u001b[0mdestination\u001b[0m\u001b[0;34m=\u001b[0m\u001b[0;34m'output.txt'\u001b[0m\u001b[0;34m,\u001b[0m \u001b[0mformat\u001b[0m\u001b[0;34m=\u001b[0m\u001b[0;34m'turtle'\u001b[0m\u001b[0;34m)\u001b[0m\u001b[0;34m\u001b[0m\u001b[0;34m\u001b[0m\u001b[0m\n\u001b[0m",
      "\u001b[0;31mAttributeError\u001b[0m: 'Collection' object has no attribute 'serialize'"
     ]
    }
   ],
   "source": [
    "# print(g.serialize(format='turtle').decode('utf-8'))\n",
    "ToyotaMarket.serialize(destination='output.txt', format='turtle')"
   ]
  },
  {
   "cell_type": "code",
   "execution_count": null,
   "metadata": {},
   "outputs": [],
   "source": []
  },
  {
   "cell_type": "code",
   "execution_count": 60,
   "metadata": {},
   "outputs": [
    {
     "data": {
      "text/plain": [
       "rdflib.term.URIRef('http://example.org/people/Bob')"
      ]
     },
     "execution_count": 60,
     "metadata": {},
     "output_type": "execute_result"
    }
   ],
   "source": [
    "bob"
   ]
  },
  {
   "cell_type": "code",
   "execution_count": 26,
   "metadata": {},
   "outputs": [
    {
     "name": "stdout",
     "output_type": "stream",
     "text": [
      "@prefix foaf: <http://xmlns.com/foaf/0.1/> .\n",
      "@prefix xsd: <http://www.w3.org/2001/XMLSchema#> .\n",
      "\n",
      "<http://example.org/people/Bob> a foaf:Person ;\n",
      "    foaf:age 24 ;\n",
      "    foaf:knows [ a foaf:Person ;\n",
      "            foaf:name \"Linda\" ] ;\n",
      "    foaf:name \"Bob\" .\n",
      "\n",
      "\n"
     ]
    }
   ],
   "source": [
    "from rdflib import Graph, URIRef, Literal, BNode\n",
    "from rdflib.namespace import FOAF, RDF\n",
    "\n",
    "g = Graph()\n",
    "g.bind(\"foaf\", FOAF)\n",
    "\n",
    "bob = URIRef(\"http://example.org/people/Bob\")\n",
    "linda = BNode()  # a GUID is generated\n",
    "\n",
    "name = Literal(\"Bob\")\n",
    "age = Literal(24)\n",
    "\n",
    "g.add((bob, RDF.type, FOAF.Person))\n",
    "g.add((bob, FOAF.name, name))\n",
    "g.add((bob, FOAF.age, age))\n",
    "g.add((bob, FOAF.knows, linda))\n",
    "g.add((linda, RDF.type, FOAF.Person))\n",
    "g.add((linda, FOAF.name, Literal(\"Linda\")))\n",
    "\n",
    "print(g.serialize(format='turtle').decode('utf-8'))"
   ]
  },
  {
   "cell_type": "code",
   "execution_count": 1,
   "metadata": {},
   "outputs": [],
   "source": [
    "from rdflib import Bag"
   ]
  },
  {
   "cell_type": "code",
   "execution_count": 2,
   "metadata": {},
   "outputs": [
    {
     "data": {
      "text/plain": [
       "rdflib.container.Bag"
      ]
     },
     "execution_count": 2,
     "metadata": {},
     "output_type": "execute_result"
    }
   ],
   "source": [
    "Bag"
   ]
  },
  {
   "cell_type": "code",
   "execution_count": 3,
   "metadata": {},
   "outputs": [
    {
     "name": "stdout",
     "output_type": "stream",
     "text": [
      "Requirement already satisfied: rdflib in /Library/Frameworks/Python.framework/Versions/3.9/lib/python3.9/site-packages (5.0.0)\n",
      "Requirement already satisfied: pyparsing in /Library/Frameworks/Python.framework/Versions/3.9/lib/python3.9/site-packages (from rdflib) (2.4.7)\n",
      "Requirement already satisfied: six in /Library/Frameworks/Python.framework/Versions/3.9/lib/python3.9/site-packages (from rdflib) (1.16.0)\n",
      "Requirement already satisfied: isodate in /Library/Frameworks/Python.framework/Versions/3.9/lib/python3.9/site-packages (from rdflib) (0.6.0)\n"
     ]
    }
   ],
   "source": [
    "!pip3 install rdflib"
   ]
  },
  {
   "cell_type": "code",
   "execution_count": null,
   "metadata": {},
   "outputs": [],
   "source": []
  }
 ],
 "metadata": {
  "interpreter": {
   "hash": "aee8b7b246df8f9039afb4144a1f6fd8d2ca17a180786b69acc140d282b71a49"
  },
  "kernelspec": {
   "display_name": "Python 3.9.1 64-bit",
   "language": "python",
   "name": "python3"
  },
  "language_info": {
   "codemirror_mode": {
    "name": "ipython",
    "version": 3
   },
   "file_extension": ".py",
   "mimetype": "text/x-python",
   "name": "python",
   "nbconvert_exporter": "python",
   "pygments_lexer": "ipython3",
   "version": "3.9.1"
  },
  "orig_nbformat": 4
 },
 "nbformat": 4,
 "nbformat_minor": 2
}
